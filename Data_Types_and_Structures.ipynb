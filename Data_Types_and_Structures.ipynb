{
  "nbformat": 4,
  "nbformat_minor": 0,
  "metadata": {
    "colab": {
      "provenance": []
    },
    "kernelspec": {
      "name": "python3",
      "display_name": "Python 3"
    },
    "language_info": {
      "name": "python"
    }
  },
  "cells": [
    {
      "cell_type": "markdown",
      "source": [
        "1. What are data structures, and why are they important?\n",
        "   - data structures are ways to organize and store data so it can be used efficiently. They're important because they allow us to manage large amounts of data in a way that's fast and efficient for different operations like searching, sorting, and updating.\n",
        "\n",
        "2. Explain the difference between mutable and immutable data types with examples.\n",
        "   - mutable data types can be changed after they are created. For example, a list in Python can have its items changed or added:\n",
        "   \n",
        "   - python\n",
        "   - Copy\n",
        "   - Edit\n",
        "   - my_list = [1, 2, 3]\n",
        "   - my_list[0] = 5\n",
        "   - Immutable data types cannot be changed after creation. Strings and tuples are examples:\n",
        "\n",
        "   - python\n",
        "   - Copy\n",
        "   - Edit\n",
        "   - my_str = \"hello\"\n",
        "# my_str[0] = 'H'  # This will cause an error\n",
        "\n",
        "3. What are the main differences between lists and tuples in Python?\n",
        "Lists are mutable; tuples are immutable.\n",
        "\n",
        "   - lists use square brackets []; tuples use parentheses ().\n",
        "\n",
        "    Tuples are generally faster and used when data shouldn’t change.\n",
        "\n",
        "4. Describe how dictionaries store data.\n",
        "   - dictionaries store data in key-value pairs. Each key maps to a value, and keys must be unique. Behind the scenes, Python uses a hash table to make data access very fast.\n",
        "\n",
        "5. Why might you use a set instead of a list in Python?\n",
        "   - sets automatically remove duplicate items and offer faster membership checks (in keyword). They're great when you need unique values.\n",
        "\n",
        "6. What is a string in Python, and how is it different from a list?\n",
        "  - a string is a sequence of characters. Unlike lists, strings are immutable, meaning you can't change individual characters once the string is created.\n",
        "\n",
        "7. How do tuples ensure data integrity in Python?\n",
        "   - since tuples are immutable, their contents can’t be changed accidentally, which makes them safer to use when data must remain constant.\n",
        "\n",
        "8. What is a hash table, and how does it relate to dictionaries in Python?\n",
        "   - a hash table is a data structure that maps keys to values using a hash function. In Python, dictionaries are implemented as hash tables, enabling fast lookups.\n",
        "\n",
        "9. Can lists contain different data types in Python?\n",
        "   - yes, Python lists can hold different data types, such as integers, strings, and even other lists.\n",
        "\n",
        "10. Explain why strings are immutable in Python.\n",
        "    - strings are immutable to improve performance and security. Since they can't be changed, they’re safe to use as keys in dictionaries and in concurrent programs.\n",
        "\n",
        "11. What advantages do dictionaries offer over lists for certain tasks?\n",
        "    - dictionaries allow fast access to values using keys, making them ideal for lookups. In contrast, lists require searching through the entire list to find an item.\n",
        "\n",
        "12. Describe a scenario where using a tuple would be preferable over a list.\n",
        "    - tuples are ideal when you want to store related, unchangeable data — like a coordinate (x, y) or a fixed configuration.\n",
        "\n",
        "13. How do sets handle duplicate values in Python?\n",
        "    - sets automatically discard duplicate values, so each element appears only once.\n",
        "\n",
        "14. How does the in keyword work differently for lists and dictionaries?\n",
        "    - in a list, in checks for a value:\n",
        "\n",
        "     - python\n",
        "     - Copy\n",
        "     - Edit\n",
        "     - 3 in [1, 2, 3]  # True\n",
        "     - In a dictionary, it checks for a key:\n",
        "     \n",
        "     - python\n",
        "     - Copy\n",
        "     - Edit\n",
        "     - 'name' in {'name': 'Alice'}  # True\n",
        "15. Can you modify the elements of a tuple? Explain why or why not.\n",
        "    - no, tuples are immutable, so you cannot change their elements after creation.\n",
        "\n",
        "16. What is a nested dictionary, and give an example of its use case.\n",
        "    - a nested dictionary has dictionaries inside another dictionary. It's useful for structured data, like storing student records:\n",
        "    python\n",
        "    Copy\n",
        "    Edit\n",
        "    students = {\n",
        "      \"Alice\": {\"age\": 20, \"grade\": \"A\"},\n",
        "      \"Bob\": {\"age\": 22, \"grade\": \"B\"}\n",
        "    }\n",
        "17. Describe the time complexity of accessing elements in a dictionary.\n",
        "    - accessing an element by key in a dictionary is on average O(1) time — constant time — thanks to hashing.\n",
        "\n",
        "18. In what situations are lists preferred over dictionaries?\n",
        "    - when order matters or you're dealing with sequences of values without named keys, lists are preferred.\n",
        "\n",
        "19. Why are dictionaries considered unordered, and how does that affect data retrieval?\n",
        "     - until Python 3.7, dictionaries didn't maintain insertion order. Now they do, but logically they are still accessed by keys, not order, which affects how you iterate through them.\n",
        "\n",
        "20. Explain the difference between a list and a dictionary in terms of data retrieval.\n",
        "    - list: Retrieval is based on index.\n",
        "    \n",
        "    Dictionary: Retrieval is based on key.\n",
        "\n"
      ],
      "metadata": {
        "id": "d2_qx4VoT-Pz"
      }
    },
    {
      "cell_type": "markdown",
      "source": [],
      "metadata": {
        "id": "L9WxITxuTmfH"
      }
    },
    {
      "cell_type": "code",
      "source": [
        "# PRACTICAL QUESTION\n",
        "# 1. Create a string with your name and print it\n",
        "name = \"John Doe\"\n",
        "print(name)\n",
        "\n"
      ],
      "metadata": {
        "colab": {
          "base_uri": "https://localhost:8080/"
        },
        "id": "uqCTLc5sTgaa",
        "outputId": "371a1f11-bbee-458d-b3e4-45d3e0ad3b78"
      },
      "execution_count": 8,
      "outputs": [
        {
          "output_type": "stream",
          "name": "stdout",
          "text": [
            "John Doe\n"
          ]
        }
      ]
    },
    {
      "cell_type": "code",
      "source": [
        "# 2. Find the length of the string \"Hello World\"\n",
        "print(len(\"Hello World\"))"
      ],
      "metadata": {
        "colab": {
          "base_uri": "https://localhost:8080/"
        },
        "id": "lpClVt-jY_u5",
        "outputId": "2747d063-02bb-437d-afdb-6082b907044d"
      },
      "execution_count": 9,
      "outputs": [
        {
          "output_type": "stream",
          "name": "stdout",
          "text": [
            "11\n"
          ]
        }
      ]
    },
    {
      "cell_type": "code",
      "source": [
        "# 3. Slice the first 3 characters from the string \"Python Programming\"\n",
        "print(\"Python Programming\"[:3])"
      ],
      "metadata": {
        "colab": {
          "base_uri": "https://localhost:8080/"
        },
        "id": "Oyka7AyMZHOR",
        "outputId": "9229218c-c7c1-4123-a657-ec2834a74d70"
      },
      "execution_count": 10,
      "outputs": [
        {
          "output_type": "stream",
          "name": "stdout",
          "text": [
            "Pyt\n"
          ]
        }
      ]
    },
    {
      "cell_type": "code",
      "source": [
        "# 4. Convert the string \"hello\" to uppercase\n",
        "print(\"hello\".upper())\n"
      ],
      "metadata": {
        "colab": {
          "base_uri": "https://localhost:8080/"
        },
        "id": "uUKk9-2XZLFT",
        "outputId": "2b3e78c3-8701-4f3a-8dae-bc41cf656149"
      },
      "execution_count": 11,
      "outputs": [
        {
          "output_type": "stream",
          "name": "stdout",
          "text": [
            "HELLO\n"
          ]
        }
      ]
    },
    {
      "cell_type": "code",
      "source": [
        "# 5. Replace \"apple\" with \"orange\" in the string\n",
        "print(\"I like apple\".replace(\"apple\", \"orange\"))"
      ],
      "metadata": {
        "colab": {
          "base_uri": "https://localhost:8080/"
        },
        "id": "Dkblp5YPZN7d",
        "outputId": "5093ca61-6a89-44cc-ff3a-eab5a6c74dd9"
      },
      "execution_count": 12,
      "outputs": [
        {
          "output_type": "stream",
          "name": "stdout",
          "text": [
            "I like orange\n"
          ]
        }
      ]
    },
    {
      "cell_type": "code",
      "source": [
        "# 6. Create a list with numbers 1 to 5 and print it\n",
        "numbers = [1, 2, 3, 4, 5]\n",
        "print(numbers)\n"
      ],
      "metadata": {
        "colab": {
          "base_uri": "https://localhost:8080/"
        },
        "id": "zQH6DVQyZRAj",
        "outputId": "e15b101b-18c3-4745-911c-b9f26d4335c9"
      },
      "execution_count": 13,
      "outputs": [
        {
          "output_type": "stream",
          "name": "stdout",
          "text": [
            "[1, 2, 3, 4, 5]\n"
          ]
        }
      ]
    },
    {
      "cell_type": "code",
      "source": [
        "# 7. Append the number 10 to the list [1, 2, 3, 4]\n",
        "lst = [1, 2, 3, 4]\n",
        "lst.append(10)\n",
        "print(lst)"
      ],
      "metadata": {
        "colab": {
          "base_uri": "https://localhost:8080/"
        },
        "id": "7NS_i_zqZUwo",
        "outputId": "70b1a8ca-9f91-48f3-82e9-283c69ee1c66"
      },
      "execution_count": 14,
      "outputs": [
        {
          "output_type": "stream",
          "name": "stdout",
          "text": [
            "[1, 2, 3, 4, 10]\n"
          ]
        }
      ]
    },
    {
      "cell_type": "code",
      "source": [
        "# 8. Remove the number 3 from the list [1, 2, 3, 4, 5]\n",
        "lst = [1, 2, 3, 4, 5]\n",
        "lst.remove(3)\n",
        "print(lst)"
      ],
      "metadata": {
        "colab": {
          "base_uri": "https://localhost:8080/"
        },
        "id": "gDSrXb9bZXuO",
        "outputId": "b1a8a4df-380b-48ac-fa76-0dd04961ffd4"
      },
      "execution_count": 15,
      "outputs": [
        {
          "output_type": "stream",
          "name": "stdout",
          "text": [
            "[1, 2, 4, 5]\n"
          ]
        }
      ]
    },
    {
      "cell_type": "code",
      "source": [
        "# 9. Access the second element in the list ['a', 'b', 'c', 'd']\n",
        "print(['a', 'b', 'c', 'd'][1])"
      ],
      "metadata": {
        "colab": {
          "base_uri": "https://localhost:8080/"
        },
        "id": "DbTftNGrZbV5",
        "outputId": "53382cf9-4760-4c1f-97bd-b446505159f7"
      },
      "execution_count": 16,
      "outputs": [
        {
          "output_type": "stream",
          "name": "stdout",
          "text": [
            "b\n"
          ]
        }
      ]
    },
    {
      "cell_type": "code",
      "source": [
        "# 10. Reverse the list [10, 20, 30, 40, 50]\n",
        "lst = [10, 20, 30, 40, 50]\n",
        "lst.reverse()\n",
        "print(lst)"
      ],
      "metadata": {
        "colab": {
          "base_uri": "https://localhost:8080/"
        },
        "id": "O6StN8SWZeTA",
        "outputId": "dfe9288d-b614-4006-9fb4-ea15c72a0cb9"
      },
      "execution_count": 17,
      "outputs": [
        {
          "output_type": "stream",
          "name": "stdout",
          "text": [
            "[50, 40, 30, 20, 10]\n"
          ]
        }
      ]
    },
    {
      "cell_type": "code",
      "source": [
        "# 11. Create a tuple with elements 100, 200, 300 and print it\n",
        "tpl = (100, 200, 300)\n",
        "print(tpl)"
      ],
      "metadata": {
        "colab": {
          "base_uri": "https://localhost:8080/"
        },
        "id": "z0i8vJmbZhTX",
        "outputId": "38731705-06c0-4661-d4f1-6c59f3f4a26a"
      },
      "execution_count": 18,
      "outputs": [
        {
          "output_type": "stream",
          "name": "stdout",
          "text": [
            "(100, 200, 300)\n"
          ]
        }
      ]
    },
    {
      "cell_type": "code",
      "source": [
        "# 12. Access the second-to-last element of the tuple\n",
        "colors = ('red', 'green', 'blue', 'yellow')\n",
        "print(colors[-2])\n"
      ],
      "metadata": {
        "colab": {
          "base_uri": "https://localhost:8080/"
        },
        "id": "EMwPXC0TZmx2",
        "outputId": "6ed0e612-1b42-4b80-814a-ee613a5213e7"
      },
      "execution_count": 19,
      "outputs": [
        {
          "output_type": "stream",
          "name": "stdout",
          "text": [
            "blue\n"
          ]
        }
      ]
    },
    {
      "cell_type": "code",
      "source": [
        "# 13. Find the minimum number in the tuple\n",
        "tpl = (10, 20, 5, 15)\n",
        "print(min(tpl))"
      ],
      "metadata": {
        "colab": {
          "base_uri": "https://localhost:8080/"
        },
        "id": "_SyEFhEfZo9Y",
        "outputId": "845744ef-c6e4-41a6-918b-785ba87e4a99"
      },
      "execution_count": 20,
      "outputs": [
        {
          "output_type": "stream",
          "name": "stdout",
          "text": [
            "5\n"
          ]
        }
      ]
    },
    {
      "cell_type": "code",
      "source": [
        "# 14. Find the index of \"cat\" in the tuple\n",
        "animals = ('dog', 'cat', 'rabbit')\n",
        "print(animals.index(\"cat\"))"
      ],
      "metadata": {
        "colab": {
          "base_uri": "https://localhost:8080/"
        },
        "id": "iw2MoN6kZr07",
        "outputId": "e563ee21-aa14-421c-e8b0-bb14d1bc034a"
      },
      "execution_count": 21,
      "outputs": [
        {
          "output_type": "stream",
          "name": "stdout",
          "text": [
            "1\n"
          ]
        }
      ]
    },
    {
      "cell_type": "code",
      "source": [
        "# 15. Create a fruit tuple and check if \"kiwi\" is in it\n",
        "fruits = (\"apple\", \"banana\", \"mango\")\n",
        "print(\"kiwi\" in fruits)"
      ],
      "metadata": {
        "colab": {
          "base_uri": "https://localhost:8080/"
        },
        "id": "QncgI-pGZuoE",
        "outputId": "f334f3e0-f121-44fd-af79-cf3d49f997fc"
      },
      "execution_count": 22,
      "outputs": [
        {
          "output_type": "stream",
          "name": "stdout",
          "text": [
            "False\n"
          ]
        }
      ]
    },
    {
      "cell_type": "code",
      "source": [
        "# 16. Create a set with 'a', 'b', 'c' and print it\n",
        "s = {'a', 'b', 'c'}\n",
        "print(s)"
      ],
      "metadata": {
        "colab": {
          "base_uri": "https://localhost:8080/"
        },
        "id": "bcjEHbIUZyR0",
        "outputId": "68bacd69-89bc-49eb-b717-635049e8c45f"
      },
      "execution_count": 23,
      "outputs": [
        {
          "output_type": "stream",
          "name": "stdout",
          "text": [
            "{'b', 'a', 'c'}\n"
          ]
        }
      ]
    },
    {
      "cell_type": "code",
      "source": [
        "# 17. Clear all elements from the set\n",
        "s = {1, 2, 3, 4, 5}\n",
        "s.clear()\n",
        "print(s)"
      ],
      "metadata": {
        "colab": {
          "base_uri": "https://localhost:8080/"
        },
        "id": "ygUqeCLwZ47O",
        "outputId": "4f33b9b0-18d8-4464-d7d0-9438a7281fd7"
      },
      "execution_count": 24,
      "outputs": [
        {
          "output_type": "stream",
          "name": "stdout",
          "text": [
            "set()\n"
          ]
        }
      ]
    },
    {
      "cell_type": "code",
      "source": [
        "# 18. Remove 4 from the set\n",
        "s = {1, 2, 3, 4}\n",
        "s.remove(4)\n",
        "print(s)"
      ],
      "metadata": {
        "colab": {
          "base_uri": "https://localhost:8080/"
        },
        "id": "kBe7rMqEZ9TH",
        "outputId": "740b48ef-a72d-4851-92d5-9899b944dac5"
      },
      "execution_count": 25,
      "outputs": [
        {
          "output_type": "stream",
          "name": "stdout",
          "text": [
            "{1, 2, 3}\n"
          ]
        }
      ]
    },
    {
      "cell_type": "code",
      "source": [
        "# 19. Union of two sets\n",
        "a = {1, 2, 3}\n",
        "b = {3, 4, 5}\n",
        "print(a.union(b))\n"
      ],
      "metadata": {
        "colab": {
          "base_uri": "https://localhost:8080/"
        },
        "id": "FdAHOFgnaDNr",
        "outputId": "3a001e07-ab02-48cc-86e4-0049c5a342f3"
      },
      "execution_count": 26,
      "outputs": [
        {
          "output_type": "stream",
          "name": "stdout",
          "text": [
            "{1, 2, 3, 4, 5}\n"
          ]
        }
      ]
    },
    {
      "cell_type": "code",
      "source": [
        "# 20. Intersection of two sets\n",
        "a = {1, 2, 3}\n",
        "b = {2, 3, 4}\n",
        "print(a.intersection(b))"
      ],
      "metadata": {
        "colab": {
          "base_uri": "https://localhost:8080/"
        },
        "id": "XFtbOJ4BaGwo",
        "outputId": "ac33a69c-d3c5-4e59-cdf9-c76838deda56"
      },
      "execution_count": 27,
      "outputs": [
        {
          "output_type": "stream",
          "name": "stdout",
          "text": [
            "{2, 3}\n"
          ]
        }
      ]
    },
    {
      "cell_type": "code",
      "source": [
        "# 21. Create a dictionary and print it\n",
        "person = {\"name\": \"Alice\", \"age\": 30, \"city\": \"Paris\"}\n",
        "print(person)\n"
      ],
      "metadata": {
        "colab": {
          "base_uri": "https://localhost:8080/"
        },
        "id": "eBp-l_hiaJz3",
        "outputId": "a9b2cd94-43b4-4cb4-af60-c25d3aad7d2c"
      },
      "execution_count": 28,
      "outputs": [
        {
          "output_type": "stream",
          "name": "stdout",
          "text": [
            "{'name': 'Alice', 'age': 30, 'city': 'Paris'}\n"
          ]
        }
      ]
    },
    {
      "cell_type": "code",
      "source": [
        "# 22. Add a key \"country\": \"USA\"\n",
        "person = {'name': 'John', 'age': 25}\n",
        "person[\"country\"] = \"USA\"\n",
        "print(person)"
      ],
      "metadata": {
        "colab": {
          "base_uri": "https://localhost:8080/"
        },
        "id": "j3zIHHWxaNKp",
        "outputId": "9aa96932-055d-4892-d4cd-8378f7a72aea"
      },
      "execution_count": 29,
      "outputs": [
        {
          "output_type": "stream",
          "name": "stdout",
          "text": [
            "{'name': 'John', 'age': 25, 'country': 'USA'}\n"
          ]
        }
      ]
    },
    {
      "cell_type": "code",
      "source": [
        "# 23. Access value with key \"name\"\n",
        "d = {'name': 'Alice', 'age': 30}\n",
        "print(d[\"name\"])\n"
      ],
      "metadata": {
        "colab": {
          "base_uri": "https://localhost:8080/"
        },
        "id": "8oN2YIKnaQFq",
        "outputId": "64c3570f-cf2b-42d7-acac-4d8ddf654003"
      },
      "execution_count": 30,
      "outputs": [
        {
          "output_type": "stream",
          "name": "stdout",
          "text": [
            "Alice\n"
          ]
        }
      ]
    },
    {
      "cell_type": "code",
      "source": [
        "# 24. Remove key \"age\"\n",
        "d = {'name': 'Bob', 'age': 22, 'city': 'New York'}\n",
        "del d[\"age\"]\n",
        "print(d)"
      ],
      "metadata": {
        "colab": {
          "base_uri": "https://localhost:8080/"
        },
        "id": "uDxbODYiaTPB",
        "outputId": "941fcf90-d698-4ff6-d47a-5378af821b30"
      },
      "execution_count": 31,
      "outputs": [
        {
          "output_type": "stream",
          "name": "stdout",
          "text": [
            "{'name': 'Bob', 'city': 'New York'}\n"
          ]
        }
      ]
    },
    {
      "cell_type": "code",
      "source": [
        "\n",
        "# 25. Check if key \"city\" exists\n",
        "d = {'name': 'Alice', 'city': 'Paris'}\n",
        "print(\"city\" in d)"
      ],
      "metadata": {
        "colab": {
          "base_uri": "https://localhost:8080/"
        },
        "id": "LF4nfDCGaWKc",
        "outputId": "980b582c-b4ae-460c-bff2-583f0d7275ea"
      },
      "execution_count": 32,
      "outputs": [
        {
          "output_type": "stream",
          "name": "stdout",
          "text": [
            "True\n"
          ]
        }
      ]
    },
    {
      "cell_type": "code",
      "source": [
        "# 26. Create a list, tuple, and dictionary, and print them\n",
        "my_list = [1, 2, 3]\n",
        "my_tuple = (4, 5, 6)\n",
        "my_dict = {\"a\": 1, \"b\": 2}\n",
        "print(my_list, my_tuple, my_dict)"
      ],
      "metadata": {
        "colab": {
          "base_uri": "https://localhost:8080/"
        },
        "id": "L51uVEp2aY3u",
        "outputId": "c72a2c93-0327-4c74-8328-bdeac8e9d293"
      },
      "execution_count": 33,
      "outputs": [
        {
          "output_type": "stream",
          "name": "stdout",
          "text": [
            "[1, 2, 3] (4, 5, 6) {'a': 1, 'b': 2}\n"
          ]
        }
      ]
    },
    {
      "cell_type": "code",
      "source": [
        "# 27. List of 5 random numbers and sort it\n",
        "import random\n",
        "nums = random.sample(range(1, 101), 5)\n",
        "nums.sort()\n",
        "print(nums)"
      ],
      "metadata": {
        "colab": {
          "base_uri": "https://localhost:8080/"
        },
        "id": "_Q3OZr9GablO",
        "outputId": "35ed56d4-0bc5-4971-c840-b807d1364e5b"
      },
      "execution_count": 34,
      "outputs": [
        {
          "output_type": "stream",
          "name": "stdout",
          "text": [
            "[28, 30, 51, 80, 87]\n"
          ]
        }
      ]
    },
    {
      "cell_type": "code",
      "source": [
        "# 28. List with strings and print element at third index\n",
        "words = [\"apple\", \"banana\", \"cherry\", \"date\", \"elderberry\"]\n",
        "print(words[3])"
      ],
      "metadata": {
        "colab": {
          "base_uri": "https://localhost:8080/"
        },
        "id": "92S4uD9saeKV",
        "outputId": "c0c99fe2-0f74-45e9-ee5a-a73145c0c285"
      },
      "execution_count": 35,
      "outputs": [
        {
          "output_type": "stream",
          "name": "stdout",
          "text": [
            "date\n"
          ]
        }
      ]
    },
    {
      "cell_type": "code",
      "source": [
        "# 29. Combine two dictionaries\n",
        "d1 = {\"a\": 1, \"b\": 2}\n",
        "d2 = {\"c\": 3, \"d\": 4}\n",
        "combined = {**d1, **d2}\n",
        "print(combined)"
      ],
      "metadata": {
        "colab": {
          "base_uri": "https://localhost:8080/"
        },
        "id": "5joYR7ydagqd",
        "outputId": "c131f661-61de-40cd-fc1d-373de10899bf"
      },
      "execution_count": 36,
      "outputs": [
        {
          "output_type": "stream",
          "name": "stdout",
          "text": [
            "{'a': 1, 'b': 2, 'c': 3, 'd': 4}\n"
          ]
        }
      ]
    },
    {
      "cell_type": "code",
      "source": [
        "# 30. Convert list of strings into a set\n",
        "str_list = [\"apple\", \"banana\", \"apple\", \"cherry\"]\n",
        "str_set = set(str_list)\n",
        "print(str_set)"
      ],
      "metadata": {
        "colab": {
          "base_uri": "https://localhost:8080/"
        },
        "id": "MeubYfw9ajM6",
        "outputId": "5ec0feb3-cfd8-4941-e426-a9582b28c064"
      },
      "execution_count": 37,
      "outputs": [
        {
          "output_type": "stream",
          "name": "stdout",
          "text": [
            "{'banana', 'apple', 'cherry'}\n"
          ]
        }
      ]
    },
    {
      "cell_type": "code",
      "source": [],
      "metadata": {
        "id": "lUKGhxKRal5_"
      },
      "execution_count": null,
      "outputs": []
    }
  ]
}